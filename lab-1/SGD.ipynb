{
 "cells": [
  {
   "cell_type": "code",
   "execution_count": 1,
   "metadata": {},
   "outputs": [],
   "source": [
    "import numpy as np\n",
    "import matplotlib.pyplot as plt\n",
    "from sklearn.datasets import load_svmlight_file\n",
    "from sklearn.model_selection import train_test_split\n",
    "from scipy.sparse import linalg"
   ]
  },
  {
   "cell_type": "markdown",
   "metadata": {},
   "source": [
    "## Load and split the dataset"
   ]
  },
  {
   "cell_type": "code",
   "execution_count": 2,
   "metadata": {},
   "outputs": [],
   "source": [
    "FEATURES = 13\n",
    "\n",
    "data = load_svmlight_file('dataset/housing_scale', n_features=FEATURES)\n",
    "X_train, X_val, y_train, y_val = train_test_split(data[0], data[1], test_size=0.2, random_state=666)"
   ]
  },
  {
   "cell_type": "markdown",
   "metadata": {},
   "source": [
    "## Create the linear regression model\n",
    "\n",
    "$ y = wx $"
   ]
  },
  {
   "cell_type": "markdown",
   "metadata": {},
   "source": [
    "## Loss functions\n",
    "\n",
    "$ L2Loss(\\hat{y}, y) = \\sum{(\\hat{y}_i-y_i)^2} $\n",
    "\n",
    "$ L1Loss(\\hat{y}, y) = \\sum{|\\hat{y}_i-y|} $\n",
    "\n",
    "**Here I choose `L1Loss`**"
   ]
  },
  {
   "cell_type": "code",
   "execution_count": 3,
   "metadata": {},
   "outputs": [],
   "source": [
    "def L2Loss(y, y_):\n",
    "    return ((y-y_)**2)\n",
    "\n",
    "def L1Loss(y, y_):\n",
    "    return np.abs(y-y_)\n",
    "\n",
    "Loss = L1Loss"
   ]
  },
  {
   "cell_type": "markdown",
   "metadata": {},
   "source": [
    "## Calculate loss initially on validation dataset"
   ]
  },
  {
   "cell_type": "code",
   "execution_count": 4,
   "metadata": {},
   "outputs": [
    {
     "name": "stdout",
     "output_type": "stream",
     "text": [
      "mean(loss = 25.46054220896995\n"
     ]
    }
   ],
   "source": [
    "w = np.random.normal(1, 1, size=(FEATURES))  # add bias\n",
    "pred_init = X_train.dot(w)\n",
    "loss_init = Loss(pred_init, y_train)\n",
    "print('mean(loss = {}'.format(loss_init.mean()))"
   ]
  },
  {
   "cell_type": "markdown",
   "metadata": {},
   "source": [
    "## Training with SGD\n",
    "\n",
    "### Hyper-parameters"
   ]
  },
  {
   "cell_type": "code",
   "execution_count": 5,
   "metadata": {},
   "outputs": [],
   "source": [
    "EPOCH_NUM = 200\n",
    "LR = 1e-4\n",
    "BATCH_SIZE = 64\n",
    "PENALTY_FACTOR = 0.6"
   ]
  },
  {
   "cell_type": "markdown",
   "metadata": {},
   "source": [
    "### Training"
   ]
  },
  {
   "cell_type": "code",
   "execution_count": 6,
   "metadata": {
    "scrolled": false
   },
   "outputs": [
    {
     "name": "stdout",
     "output_type": "stream",
     "text": [
      "Finally, Loss_train is 3.922, Loss_val is 3.938\n"
     ]
    }
   ],
   "source": [
    "losses_train, losses_val = [], []\n",
    "\n",
    "batch_idxs_pool = np.arange(X_train.shape[0])\n",
    "\n",
    "for epoch in range(EPOCH_NUM):\n",
    "    for step in range(X_train.shape[0] // BATCH_SIZE):\n",
    "        batch = np.random.choice(batch_idxs_pool, size=BATCH_SIZE)\n",
    "        X, y = X_train[batch], y_train[batch]\n",
    "\n",
    "        grad = X.T.dot(X.dot(w)-y) + PENALTY_FACTOR*w\n",
    "        grad = -grad\n",
    "        w += LR * grad\n",
    "\n",
    "    losses_train.append(Loss(X_train.dot(w), y_train).mean())\n",
    "    losses_val.append(Loss(X_val.dot(w), y_val).mean())\n",
    "#     print('Epoch: #{}\\tLoss_train: {}\\tLoss_val: {}'.format(epoch+1, losses_train[-1], losses_val[-1]))\n",
    "\n",
    "print('Finally, Loss_train is {:.3f}, Loss_val is {:.3f}'.format(losses_train[-1], losses_val[-1]))\n",
    "    "
   ]
  },
  {
   "cell_type": "code",
   "execution_count": 7,
   "metadata": {},
   "outputs": [
    {
     "data": {
      "image/png": "[encoded data removed]",
      "text/plain": [
       "<Figure size 1080x288 with 1 Axes>"
      ]
     },
     "metadata": {
      "needs_background": "light"
     },
     "output_type": "display_data"
    }
   ],
   "source": [
    "plt.figure(figsize=[15,4])\n",
    "plt.title('L1Losses')\n",
    "plt.plot(losses_train, c='b', label='train')\n",
    "plt.xlabel('epoch')\n",
    "plt.ylabel('loss')\n",
    "plt.plot(losses_val, c='r', label='valid')\n",
    "plt.legend()\n",
    "plt.savefig('losses-sgd.png')\n",
    "plt.show()"
   ]
  }
 ],
 "metadata": {
  "kernelspec": {
   "display_name": "Python 3",
   "language": "python",
   "name": "python3"
  },
  "language_info": {
   "codemirror_mode": {
    "name": "ipython",
    "version": 3
   },
   "file_extension": ".py",
   "mimetype": "text/x-python",
   "name": "python",
   "nbconvert_exporter": "python",
   "pygments_lexer": "ipython3",
   "version": "3.7.0"
  }
 },
 "nbformat": 4,
 "nbformat_minor": 2
}
