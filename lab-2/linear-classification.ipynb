{
 "cells": [
  {
   "cell_type": "code",
   "execution_count": 1,
   "metadata": {},
   "outputs": [],
   "source": [
    "import numpy as np\n",
    "import matplotlib.pyplot as plt\n",
    "from sklearn import preprocessing\n",
    "from sklearn.model_selection import train_test_split\n",
    "from sklearn.datasets import load_svmlight_file "
   ]
  },
  {
   "cell_type": "markdown",
   "metadata": {},
   "source": [
    "## Load dataset"
   ]
  },
  {
   "cell_type": "code",
   "execution_count": 2,
   "metadata": {},
   "outputs": [],
   "source": [
    "N_FEATURES = 123\n",
    "\n",
    "X_train, y_train = load_svmlight_file('dataset/a9a', n_features=N_FEATURES)\n",
    "X_val, y_val = load_svmlight_file('dataset/a9a.t', n_features=N_FEATURES)\n",
    "\n",
    "y_train = y_train.reshape(y_train.shape[0], 1)\n",
    "y_val = y_val.reshape(y_val.shape[0], 1)"
   ]
  },
  {
   "cell_type": "markdown",
   "metadata": {},
   "source": [
    "## Hyper-parameters"
   ]
  },
  {
   "cell_type": "code",
   "execution_count": 3,
   "metadata": {},
   "outputs": [],
   "source": [
    "EPOCH_NUM = 250\n",
    "BATCH_SIZE = 512\n",
    "LR = 0.008\n",
    "PENALTY_FACTOR = 0.5\n",
    "THRESHOLD = 0\n",
    "C = 0.5"
   ]
  },
  {
   "cell_type": "markdown",
   "metadata": {},
   "source": [
    "## Hinge Loss function\n",
    "\n",
    "$ J(w) = max(0,1−y\\cdot h_w(x)) $\n"
   ]
  },
  {
   "cell_type": "code",
   "execution_count": 4,
   "metadata": {},
   "outputs": [],
   "source": [
    "def sigmoid(x):\n",
    "    return 1 / (1 + np.exp(-x))\n",
    "\n",
    "def loss(y_, y):\n",
    "    l = np.maximum(0, 1-y*y_)\n",
    "    return C * l.sum() / y.shape[0]"
   ]
  },
  {
   "cell_type": "markdown",
   "metadata": {},
   "source": [
    "## Initialize parameter $w$ with normal distribution"
   ]
  },
  {
   "cell_type": "code",
   "execution_count": 5,
   "metadata": {},
   "outputs": [
    {
     "name": "stdout",
     "output_type": "stream",
     "text": [
      "loss_train: 5.6366\tloss_val: 5.6675\n"
     ]
    }
   ],
   "source": [
    "# w = np.random.normal(1, 1, size=(N_FEATURES, 1))\n",
    "w = np.ones((N_FEATURES, 1))\n",
    "\n",
    "loss_train = loss(X_train.dot(w), y_train)\n",
    "loss_val = loss(X_val.dot(w), y_val)\n",
    "print('loss_train: {:.4f}\\tloss_val: {:.4f}'.format(loss_train, loss_val))"
   ]
  },
  {
   "cell_type": "markdown",
   "metadata": {},
   "source": [
    "## Train"
   ]
  },
  {
   "cell_type": "code",
   "execution_count": 6,
   "metadata": {
    "scrolled": true
   },
   "outputs": [
    {
     "name": "stdout",
     "output_type": "stream",
     "text": [
      "Epoch: #1\tLoss_train: 5.182410\tLoss_val: 5.210700\tAcc_train: 0.2408\tAcc_val: 0.2362\n",
      "Epoch: #11\tLoss_train: 0.759846\tLoss_val: 0.760914\tAcc_train: 0.4298\tAcc_val: 0.4252\n",
      "Epoch: #21\tLoss_train: 0.355668\tLoss_val: 0.352569\tAcc_train: 0.7355\tAcc_val: 0.7349\n",
      "Epoch: #31\tLoss_train: 0.316674\tLoss_val: 0.314182\tAcc_train: 0.7581\tAcc_val: 0.7579\n",
      "Epoch: #41\tLoss_train: 0.292583\tLoss_val: 0.290398\tAcc_train: 0.7687\tAcc_val: 0.7694\n",
      "Epoch: #51\tLoss_train: 0.276607\tLoss_val: 0.274529\tAcc_train: 0.7774\tAcc_val: 0.7785\n",
      "Epoch: #61\tLoss_train: 0.264955\tLoss_val: 0.262893\tAcc_train: 0.7866\tAcc_val: 0.7885\n",
      "Epoch: #71\tLoss_train: 0.255746\tLoss_val: 0.253648\tAcc_train: 0.7948\tAcc_val: 0.7958\n",
      "Epoch: #81\tLoss_train: 0.248042\tLoss_val: 0.245935\tAcc_train: 0.8007\tAcc_val: 0.8014\n",
      "Epoch: #91\tLoss_train: 0.241390\tLoss_val: 0.239270\tAcc_train: 0.8050\tAcc_val: 0.8063\n",
      "Epoch: #101\tLoss_train: 0.235523\tLoss_val: 0.233458\tAcc_train: 0.8086\tAcc_val: 0.8090\n",
      "Epoch: #111\tLoss_train: 0.230283\tLoss_val: 0.228321\tAcc_train: 0.8114\tAcc_val: 0.8108\n",
      "Epoch: #121\tLoss_train: 0.225552\tLoss_val: 0.223654\tAcc_train: 0.8142\tAcc_val: 0.8133\n",
      "Epoch: #131\tLoss_train: 0.221307\tLoss_val: 0.219427\tAcc_train: 0.8162\tAcc_val: 0.8155\n",
      "Epoch: #141\tLoss_train: 0.217449\tLoss_val: 0.215520\tAcc_train: 0.8190\tAcc_val: 0.8183\n",
      "Epoch: #151\tLoss_train: 0.213971\tLoss_val: 0.211987\tAcc_train: 0.8215\tAcc_val: 0.8204\n",
      "Epoch: #161\tLoss_train: 0.210835\tLoss_val: 0.208792\tAcc_train: 0.8237\tAcc_val: 0.8219\n",
      "Epoch: #171\tLoss_train: 0.207999\tLoss_val: 0.205934\tAcc_train: 0.8255\tAcc_val: 0.8234\n",
      "Epoch: #181\tLoss_train: 0.205419\tLoss_val: 0.203346\tAcc_train: 0.8267\tAcc_val: 0.8249\n",
      "Epoch: #191\tLoss_train: 0.203064\tLoss_val: 0.200989\tAcc_train: 0.8283\tAcc_val: 0.8270\n",
      "Epoch: #201\tLoss_train: 0.200933\tLoss_val: 0.198836\tAcc_train: 0.8294\tAcc_val: 0.8291\n",
      "Epoch: #211\tLoss_train: 0.199002\tLoss_val: 0.196898\tAcc_train: 0.8314\tAcc_val: 0.8302\n",
      "Epoch: #221\tLoss_train: 0.197250\tLoss_val: 0.195152\tAcc_train: 0.8321\tAcc_val: 0.8312\n",
      "Epoch: #231\tLoss_train: 0.195601\tLoss_val: 0.193491\tAcc_train: 0.8330\tAcc_val: 0.8323\n",
      "Epoch: #241\tLoss_train: 0.194116\tLoss_val: 0.192029\tAcc_train: 0.8336\tAcc_val: 0.8338\n"
     ]
    }
   ],
   "source": [
    "losses_train, losses_val = [], []\n",
    "accs_train, accs_val = [], []\n",
    "\n",
    "for epoch in range(EPOCH_NUM):\n",
    "    for step in range(X_train.shape[0] // BATCH_SIZE):\n",
    "        batch_idx = np.random.choice(X_train.shape[0], BATCH_SIZE)\n",
    "        X, y = X_train[batch_idx], y_train[batch_idx]\n",
    "        \n",
    "        X_ = (1 - y * X.dot(w) < THRESHOLD)\n",
    "        y_ = y.copy()\n",
    "        y_[X_] = 0\n",
    "        \n",
    "        grad = (-1)*(X.T.dot(y_))*C + PENALTY_FACTOR*w\n",
    "        grad = -grad / X.shape[0]\n",
    "        \n",
    "        w += LR * grad\n",
    "        \n",
    "    output_train, output_val = X_train.dot(w), X_val.dot(w)\n",
    "    \n",
    "    losses_train.append(loss(output_train, y_train))\n",
    "    losses_val.append(loss(output_val, y_val))\n",
    "    \n",
    "    output_train[output_train > THRESHOLD] = 1\n",
    "    output_train[output_train <= THRESHOLD] = -1\n",
    "    \n",
    "    output_val[output_val > THRESHOLD] = 1\n",
    "    output_val[output_val <= THRESHOLD] = -1\n",
    "    \n",
    "    accs_train.append(np.count_nonzero(output_train == y_train)/X_train.shape[0])\n",
    "    accs_val.append(np.count_nonzero(output_val == y_val)/X_val.shape[0])\n",
    "    \n",
    "    if epoch % 10 == 0:\n",
    "        print('Epoch: #{}\\tLoss_train: {:.6f}\\tLoss_val: {:.6f}\\tAcc_train: {:.4f}\\tAcc_val: {:.4f}'.format(\n",
    "            epoch+1, losses_train[-1], losses_val[-1], accs_train[-1], accs_val[-1])\n",
    "        )\n"
   ]
  },
  {
   "cell_type": "markdown",
   "metadata": {},
   "source": [
    "## Visualization\n",
    "\n",
    "### Losses"
   ]
  },
  {
   "cell_type": "code",
   "execution_count": 7,
   "metadata": {},
   "outputs": [
    {
     "data": {
      "image/png": "[encoded data removed]",
      "text/plain": [
       "<Figure size 1008x432 with 1 Axes>"
      ]
     },
     "metadata": {
      "needs_background": "light"
     },
     "output_type": "display_data"
    }
   ],
   "source": [
    "plt.figure(figsize=[14,6])\n",
    "plt.title('loss')\n",
    "plt.plot(losses_train, '--', c='b',linewidth=4, label='train')\n",
    "plt.xlabel('epoch')\n",
    "plt.ylabel('loss')\n",
    "plt.plot(losses_val, c='r', linewidth=2, label='valid')\n",
    "plt.legend()\n",
    "plt.savefig('linear-classification-losses.png')\n",
    "plt.show()"
   ]
  },
  {
   "cell_type": "markdown",
   "metadata": {},
   "source": [
    "### Accuracy"
   ]
  },
  {
   "cell_type": "code",
   "execution_count": 8,
   "metadata": {},
   "outputs": [
    {
     "data": {
      "image/png": "[encoded data removed]",
      "text/plain": [
       "<Figure size 1008x432 with 1 Axes>"
      ]
     },
     "metadata": {
      "needs_background": "light"
     },
     "output_type": "display_data"
    }
   ],
   "source": [
    "plt.figure(figsize=[14,6])\n",
    "plt.title('Accuracy')\n",
    "plt.plot(accs_train, '--', c='b',linewidth=4, label='train')\n",
    "plt.xlabel('epoch')\n",
    "plt.ylabel('accuracy')\n",
    "plt.plot(accs_val, c='r', linewidth=2, label='valid')\n",
    "plt.legend()\n",
    "plt.savefig('linear-classification-accuracy.png')\n",
    "plt.show()"
   ]
  },
  {
   "cell_type": "code",
   "execution_count": null,
   "metadata": {},
   "outputs": [],
   "source": []
  }
 ],
 "metadata": {
  "kernelspec": {
   "display_name": "Python 3",
   "language": "python",
   "name": "python3"
  },
  "language_info": {
   "codemirror_mode": {
    "name": "ipython",
    "version": 3
   },
   "file_extension": ".py",
   "mimetype": "text/x-python",
   "name": "python",
   "nbconvert_exporter": "python",
   "pygments_lexer": "ipython3",
   "version": "3.7.0"
  }
 },
 "nbformat": 4,
 "nbformat_minor": 2
}
